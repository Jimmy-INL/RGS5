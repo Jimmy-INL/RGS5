{
 "cells": [
  {
   "cell_type": "markdown",
   "metadata": {},
   "source": [
    "# Showing differences between rows and columns distribution of the data set "
   ]
  },
  {
   "cell_type": "markdown",
   "metadata": {},
   "source": [
    "Authors:\n",
    "\n",
    "     Sumeyye Su-(sumeyye.su@mavs.uta.edu) PhD student,Department of Mathematics in the University of Texas at Arlington\n",
    "     Leili Shahriyari (lshahriyari@umass.edu, Advisor, Department of Mathematics and Statisics, University of Massachusetts Amherst"
   ]
  },
  {
   "cell_type": "markdown",
   "metadata": {},
   "source": [
    "It has been observed that patients have similar  gene expression distributions, while the expression level of the each gene across the patient has different distribution(Shahriyari L.,2019)  \n",
    "\n",
    "Here, we first found mean and standart deviation of each gene, and create a data frame with mean and sum of mean and standart deviation. Then we sorted the data frame based on the mean column. Then plot the distribution of the data frame. \n",
    "\n",
    "Also, we found the mean and standart deviation of gene expression of  each patient, and create a data frame with mean and sum of mean and standart deviation. Then we sorted the  data frame based on the mean column. Then plot the distribution of the data frame.  \n"
   ]
  },
  {
   "cell_type": "code",
   "execution_count": 1,
   "metadata": {
    "collapsed": false
   },
   "outputs": [
    {
     "data": {
      "text/plain": [
       "'kidneydata/data_RNA_Seq_v2_expression_median.txt'"
      ]
     },
     "execution_count": 1,
     "metadata": {},
     "output_type": "execute_result"
    }
   ],
   "source": [
    "#import some useful libraries\n",
    "import os\n",
    "import pandas as pd\n",
    "import matplotlib.pylab as plt\n",
    "#reading the data from the location of the data\n",
    "notebook_path=os.path.dirname('Intro_plots_codes2.ipynb')\n",
    "location_of_data=notebook_path+ \"kidneydata/\"\n",
    "rna_file_name= \"data_RNA_Seq_v2_expression_median.txt\"\n",
    "rna_file_path= location_of_data+ rna_file_name\n",
    "rna_file_path\n"
   ]
  },
  {
   "cell_type": "code",
   "execution_count": 2,
   "metadata": {
    "collapsed": false
   },
   "outputs": [
    {
     "data": {
      "text/html": [
       "<div>\n",
       "<style scoped>\n",
       "    .dataframe tbody tr th:only-of-type {\n",
       "        vertical-align: middle;\n",
       "    }\n",
       "\n",
       "    .dataframe tbody tr th {\n",
       "        vertical-align: top;\n",
       "    }\n",
       "\n",
       "    .dataframe thead th {\n",
       "        text-align: right;\n",
       "    }\n",
       "</style>\n",
       "<table border=\"1\" class=\"dataframe\">\n",
       "  <thead>\n",
       "    <tr style=\"text-align: right;\">\n",
       "      <th></th>\n",
       "      <th>TCGA-3Z-A93Z-01</th>\n",
       "      <th>TCGA-6D-AA2E-01</th>\n",
       "      <th>TCGA-A3-3306-01</th>\n",
       "      <th>TCGA-A3-3307-01</th>\n",
       "      <th>TCGA-A3-3308-01</th>\n",
       "      <th>TCGA-A3-3311-01</th>\n",
       "      <th>TCGA-A3-3313-01</th>\n",
       "      <th>TCGA-A3-3316-01</th>\n",
       "      <th>TCGA-A3-3317-01</th>\n",
       "      <th>TCGA-A3-3319-01</th>\n",
       "      <th>...</th>\n",
       "      <th>TCGA-G6-A5PC-01</th>\n",
       "      <th>TCGA-G6-A8L6-01</th>\n",
       "      <th>TCGA-G6-A8L7-01</th>\n",
       "      <th>TCGA-G6-A8L8-01</th>\n",
       "      <th>TCGA-GK-A6C7-01</th>\n",
       "      <th>TCGA-MM-A563-01</th>\n",
       "      <th>TCGA-MM-A564-01</th>\n",
       "      <th>TCGA-MM-A84U-01</th>\n",
       "      <th>TCGA-MW-A4EC-01</th>\n",
       "      <th>TCGA-T7-A92I-01</th>\n",
       "    </tr>\n",
       "    <tr>\n",
       "      <th>Hugo_Symbol</th>\n",
       "      <th></th>\n",
       "      <th></th>\n",
       "      <th></th>\n",
       "      <th></th>\n",
       "      <th></th>\n",
       "      <th></th>\n",
       "      <th></th>\n",
       "      <th></th>\n",
       "      <th></th>\n",
       "      <th></th>\n",
       "      <th></th>\n",
       "      <th></th>\n",
       "      <th></th>\n",
       "      <th></th>\n",
       "      <th></th>\n",
       "      <th></th>\n",
       "      <th></th>\n",
       "      <th></th>\n",
       "      <th></th>\n",
       "      <th></th>\n",
       "      <th></th>\n",
       "    </tr>\n",
       "  </thead>\n",
       "  <tbody>\n",
       "    <tr>\n",
       "      <th>LOC100130426</th>\n",
       "      <td>0.0000</td>\n",
       "      <td>0.0000</td>\n",
       "      <td>0.0000</td>\n",
       "      <td>0.0000</td>\n",
       "      <td>0.0000</td>\n",
       "      <td>0.0000</td>\n",
       "      <td>0.0000</td>\n",
       "      <td>0.0000</td>\n",
       "      <td>0.0000</td>\n",
       "      <td>0.0000</td>\n",
       "      <td>...</td>\n",
       "      <td>0.0000</td>\n",
       "      <td>0.0000</td>\n",
       "      <td>0.0000</td>\n",
       "      <td>0.0000</td>\n",
       "      <td>0.0000</td>\n",
       "      <td>0.0000</td>\n",
       "      <td>0.0000</td>\n",
       "      <td>0.0000</td>\n",
       "      <td>0.0000</td>\n",
       "      <td>0.0000</td>\n",
       "    </tr>\n",
       "    <tr>\n",
       "      <th>UBE2Q2P3</th>\n",
       "      <td>2.9608</td>\n",
       "      <td>2.4501</td>\n",
       "      <td>3.2246</td>\n",
       "      <td>1.8578</td>\n",
       "      <td>6.4640</td>\n",
       "      <td>10.4052</td>\n",
       "      <td>6.5100</td>\n",
       "      <td>14.6871</td>\n",
       "      <td>16.5597</td>\n",
       "      <td>10.6939</td>\n",
       "      <td>...</td>\n",
       "      <td>1.2346</td>\n",
       "      <td>3.6669</td>\n",
       "      <td>0.0000</td>\n",
       "      <td>0.7315</td>\n",
       "      <td>1.8520</td>\n",
       "      <td>5.0603</td>\n",
       "      <td>17.1276</td>\n",
       "      <td>2.7042</td>\n",
       "      <td>12.5228</td>\n",
       "      <td>3.8379</td>\n",
       "    </tr>\n",
       "    <tr>\n",
       "      <th>UBE2Q2P3</th>\n",
       "      <td>11.4669</td>\n",
       "      <td>2.4069</td>\n",
       "      <td>8.1625</td>\n",
       "      <td>4.1055</td>\n",
       "      <td>2.7113</td>\n",
       "      <td>4.9358</td>\n",
       "      <td>13.1356</td>\n",
       "      <td>10.4830</td>\n",
       "      <td>12.2013</td>\n",
       "      <td>9.5446</td>\n",
       "      <td>...</td>\n",
       "      <td>1.7049</td>\n",
       "      <td>3.8725</td>\n",
       "      <td>8.1466</td>\n",
       "      <td>4.8240</td>\n",
       "      <td>4.5562</td>\n",
       "      <td>3.4824</td>\n",
       "      <td>2.9855</td>\n",
       "      <td>8.5634</td>\n",
       "      <td>8.3895</td>\n",
       "      <td>9.6231</td>\n",
       "    </tr>\n",
       "    <tr>\n",
       "      <th>LOC149767</th>\n",
       "      <td>75.7771</td>\n",
       "      <td>49.6384</td>\n",
       "      <td>70.2692</td>\n",
       "      <td>94.6101</td>\n",
       "      <td>89.7213</td>\n",
       "      <td>87.6572</td>\n",
       "      <td>62.6849</td>\n",
       "      <td>111.4014</td>\n",
       "      <td>69.5170</td>\n",
       "      <td>56.7040</td>\n",
       "      <td>...</td>\n",
       "      <td>38.0452</td>\n",
       "      <td>83.2008</td>\n",
       "      <td>39.2057</td>\n",
       "      <td>77.0403</td>\n",
       "      <td>58.0551</td>\n",
       "      <td>102.8342</td>\n",
       "      <td>95.3237</td>\n",
       "      <td>62.0845</td>\n",
       "      <td>104.6356</td>\n",
       "      <td>72.3542</td>\n",
       "    </tr>\n",
       "    <tr>\n",
       "      <th>TIMM23</th>\n",
       "      <td>563.9369</td>\n",
       "      <td>1313.5456</td>\n",
       "      <td>601.9669</td>\n",
       "      <td>546.3303</td>\n",
       "      <td>721.6424</td>\n",
       "      <td>700.0167</td>\n",
       "      <td>983.0508</td>\n",
       "      <td>423.1293</td>\n",
       "      <td>798.3038</td>\n",
       "      <td>705.4572</td>\n",
       "      <td>...</td>\n",
       "      <td>2193.6432</td>\n",
       "      <td>680.6032</td>\n",
       "      <td>1364.5621</td>\n",
       "      <td>580.5455</td>\n",
       "      <td>494.0724</td>\n",
       "      <td>649.2462</td>\n",
       "      <td>654.3055</td>\n",
       "      <td>1256.3380</td>\n",
       "      <td>581.0354</td>\n",
       "      <td>1088.8424</td>\n",
       "    </tr>\n",
       "  </tbody>\n",
       "</table>\n",
       "<p>5 rows × 534 columns</p>\n",
       "</div>"
      ],
      "text/plain": [
       "              TCGA-3Z-A93Z-01  TCGA-6D-AA2E-01  TCGA-A3-3306-01  \\\n",
       "Hugo_Symbol                                                       \n",
       "LOC100130426           0.0000           0.0000           0.0000   \n",
       "UBE2Q2P3               2.9608           2.4501           3.2246   \n",
       "UBE2Q2P3              11.4669           2.4069           8.1625   \n",
       "LOC149767             75.7771          49.6384          70.2692   \n",
       "TIMM23               563.9369        1313.5456         601.9669   \n",
       "\n",
       "              TCGA-A3-3307-01  TCGA-A3-3308-01  TCGA-A3-3311-01  \\\n",
       "Hugo_Symbol                                                       \n",
       "LOC100130426           0.0000           0.0000           0.0000   \n",
       "UBE2Q2P3               1.8578           6.4640          10.4052   \n",
       "UBE2Q2P3               4.1055           2.7113           4.9358   \n",
       "LOC149767             94.6101          89.7213          87.6572   \n",
       "TIMM23               546.3303         721.6424         700.0167   \n",
       "\n",
       "              TCGA-A3-3313-01  TCGA-A3-3316-01  TCGA-A3-3317-01  \\\n",
       "Hugo_Symbol                                                       \n",
       "LOC100130426           0.0000           0.0000           0.0000   \n",
       "UBE2Q2P3               6.5100          14.6871          16.5597   \n",
       "UBE2Q2P3              13.1356          10.4830          12.2013   \n",
       "LOC149767             62.6849         111.4014          69.5170   \n",
       "TIMM23               983.0508         423.1293         798.3038   \n",
       "\n",
       "              TCGA-A3-3319-01       ...         TCGA-G6-A5PC-01  \\\n",
       "Hugo_Symbol                         ...                           \n",
       "LOC100130426           0.0000       ...                  0.0000   \n",
       "UBE2Q2P3              10.6939       ...                  1.2346   \n",
       "UBE2Q2P3               9.5446       ...                  1.7049   \n",
       "LOC149767             56.7040       ...                 38.0452   \n",
       "TIMM23               705.4572       ...               2193.6432   \n",
       "\n",
       "              TCGA-G6-A8L6-01  TCGA-G6-A8L7-01  TCGA-G6-A8L8-01  \\\n",
       "Hugo_Symbol                                                       \n",
       "LOC100130426           0.0000           0.0000           0.0000   \n",
       "UBE2Q2P3               3.6669           0.0000           0.7315   \n",
       "UBE2Q2P3               3.8725           8.1466           4.8240   \n",
       "LOC149767             83.2008          39.2057          77.0403   \n",
       "TIMM23               680.6032        1364.5621         580.5455   \n",
       "\n",
       "              TCGA-GK-A6C7-01  TCGA-MM-A563-01  TCGA-MM-A564-01  \\\n",
       "Hugo_Symbol                                                       \n",
       "LOC100130426           0.0000           0.0000           0.0000   \n",
       "UBE2Q2P3               1.8520           5.0603          17.1276   \n",
       "UBE2Q2P3               4.5562           3.4824           2.9855   \n",
       "LOC149767             58.0551         102.8342          95.3237   \n",
       "TIMM23               494.0724         649.2462         654.3055   \n",
       "\n",
       "              TCGA-MM-A84U-01  TCGA-MW-A4EC-01  TCGA-T7-A92I-01  \n",
       "Hugo_Symbol                                                      \n",
       "LOC100130426           0.0000           0.0000           0.0000  \n",
       "UBE2Q2P3               2.7042          12.5228           3.8379  \n",
       "UBE2Q2P3               8.5634           8.3895           9.6231  \n",
       "LOC149767             62.0845         104.6356          72.3542  \n",
       "TIMM23              1256.3380         581.0354        1088.8424  \n",
       "\n",
       "[5 rows x 534 columns]"
      ]
     },
     "execution_count": 2,
     "metadata": {},
     "output_type": "execute_result"
    }
   ],
   "source": [
    "\n",
    "rna =pd.read_csv(rna_file_path,  sep='\\t')\n",
    "#to make sure we do not process the name of genes we will convert them to string\n",
    "\n",
    "rna[['Hugo_Symbol', 'Entrez_Gene_Id']] = rna[['Hugo_Symbol', 'Entrez_Gene_Id']].astype(str)\n",
    "#drop Entrez_Gene_Id' column\n",
    "rna=rna.drop(['Entrez_Gene_Id'],axis=1)\n",
    "#set index Hugo_Symbol column\n",
    "rna=rna.set_index([ 'Hugo_Symbol'])\n",
    "rna.head()\n",
    "\n"
   ]
  },
  {
   "cell_type": "code",
   "execution_count": 5,
   "metadata": {
    "collapsed": false
   },
   "outputs": [
    {
     "data": {
      "image/png": "[encoded data removed]",
      "text/plain": [
       "<Figure size 432x288 with 1 Axes>"
      ]
     },
     "metadata": {
      "needs_background": "light"
     },
     "output_type": "display_data"
    }
   ],
   "source": [
    "#finding the mean and standart deviation of each gene\n",
    "\n",
    "# In Figure a we found mean and standart deviation of each gene, then sorted by mean values. \n",
    "mean = rna.mean(axis=1)\n",
    "std = rna.std(axis =1)\n",
    "#adding mean and std\n",
    "mean_std = [(mean[i],std[i]+mean[i]) for i in range(len(mean))]\n",
    "#sorted the data frame by mean column\n",
    "sorted_mean_std = sorted(mean_std, key=lambda tup: tup[0])\n",
    "#plot the gene graphs\n",
    "plt.plot(sorted_mean_std,linestyle='',marker ='.')\n",
    "plt.legend(['mean', 'mean+standard deviation'],\n",
    "          loc='upper left', frameon=False)\n",
    "#scale the y axes with  symmetrical logarithmic\n",
    "plt.yscale('symlog')\n",
    "plt.xlabel('Genes')\n",
    "\n",
    "plt.xticks([])\n",
    "plt.text(-4,700000,\"A\", fontsize=25)\n",
    "\n",
    "plt.savefig('mean_genes.eps', format='eps',bbox_inches='tight', dpi=1000)\n",
    "plt.show()"
   ]
  },
  {
   "cell_type": "code",
   "execution_count": 6,
   "metadata": {
    "collapsed": false
   },
   "outputs": [
    {
     "data": {
      "image/png": "[encoded data removed]",
      "text/plain": [
       "<Figure size 432x288 with 1 Axes>"
      ]
     },
     "metadata": {
      "needs_background": "light"
     },
     "output_type": "display_data"
    }
   ],
   "source": [
    "#transpoze the data frame for plot depend on patiens\n",
    "rna_p=rna.T\n",
    "# In figure b we found mean and standart deviation of gene expression level of patients,then sorted by mean values.\n",
    "Mean_each_patient = rna_p.mean(axis=1)\n",
    "Std_each_patient=rna_p.std(axis=1)\n",
    "rna_p['Mean']=Mean_each_patient\n",
    "rna_p['Std']=Std_each_patient\n",
    "rna_p=rna_p[['Mean','Std']]\n",
    "rna_p['mean+std']=rna_p[['Mean','Std']].sum(axis=1)\n",
    "\n",
    "rna_p=rna_p.sort_values(by='Mean', ascending=False)\n",
    "#plot the graps\n",
    "plt.plot(rna_p[['Mean','mean+std']],linestyle='',marker ='.')\n",
    "#scale the y axes  symmetrical logarithmic\n",
    "plt.legend(['mean', 'mean+standard deviation'],\n",
    "          loc='upper right', frameon=False)\n",
    "plt.yscale('symlog')\n",
    "plt.xlabel('Patients')\n",
    "plt.xticks([])\n",
    "plt.text(-0.5,16000,\"B\", fontsize=25)\n",
    "plt.savefig('patient_mean.eps', format='eps',bbox_inches='tight', dpi=1000)\n"
   ]
  },
  {
   "cell_type": "code",
   "execution_count": null,
   "metadata": {
    "collapsed": true
   },
   "outputs": [],
   "source": []
  },
  {
   "cell_type": "code",
   "execution_count": null,
   "metadata": {
    "collapsed": true
   },
   "outputs": [],
   "source": []
  }
 ],
 "metadata": {
  "kernelspec": {
   "display_name": "Python 3",
   "language": "python",
   "name": "python3"
  },
  "language_info": {
   "codemirror_mode": {
    "name": "ipython",
    "version": 3
   },
   "file_extension": ".py",
   "mimetype": "text/x-python",
   "name": "python",
   "nbconvert_exporter": "python",
   "pygments_lexer": "ipython3",
   "version": "3.5.4"
  }
 },
 "nbformat": 4,
 "nbformat_minor": 2
}
